{
  "nbformat": 4,
  "nbformat_minor": 0,
  "metadata": {
    "colab": {
      "provenance": [],
      "include_colab_link": true
    },
    "kernelspec": {
      "name": "python3",
      "display_name": "Python 3"
    },
    "language_info": {
      "name": "python"
    }
  },
  "cells": [
    {
      "cell_type": "markdown",
      "metadata": {
        "id": "view-in-github",
        "colab_type": "text"
      },
      "source": [
        "<a href=\"https://colab.research.google.com/github/Leonardodarienzo/Python-base/blob/main/DARIENZO_LEONARDO_programma_informatica.ipynb\" target=\"_parent\"><img src=\"https://colab.research.google.com/assets/colab-badge.svg\" alt=\"Open In Colab\"/></a>"
      ]
    },
    {
      "cell_type": "markdown",
      "source": [
        "#Python base"
      ],
      "metadata": {
        "id": "VlfU3EKDvuB5"
      }
    },
    {
      "cell_type": "markdown",
      "source": [
        "inserimento dati, visualizzazione dati"
      ],
      "metadata": {
        "id": "SPNrHWvYwAiW"
      }
    },
    {
      "cell_type": "code",
      "source": [
        "nome= input(\"Inserisci il tuo nome\")\n",
        "print(nome)"
      ],
      "metadata": {
        "id": "Ki2lURjX_Cg8"
      },
      "execution_count": null,
      "outputs": []
    },
    {
      "cell_type": "code",
      "source": [
        "peso = int(input(\"Inserisci il tuo peso\"))\n",
        "print(peso)"
      ],
      "metadata": {
        "colab": {
          "base_uri": "https://localhost:8080/"
        },
        "id": "0GmDjXBn_Z-T",
        "outputId": "ce36b0e1-1b1d-4390-d507-26b2d14da2f6"
      },
      "execution_count": null,
      "outputs": [
        {
          "output_type": "stream",
          "name": "stdout",
          "text": [
            "Inserisci il tuo peso80\n",
            "80\n"
          ]
        }
      ]
    },
    {
      "cell_type": "code",
      "source": [
        "altezza = float(input(\"Inserisci la tua altezza\"))\n",
        "print(altezza)"
      ],
      "metadata": {
        "id": "rO5j_3x-_u0F"
      },
      "execution_count": null,
      "outputs": []
    },
    {
      "cell_type": "markdown",
      "source": [
        "tipi di dati (interi, float, stringhe, booleani, ...) "
      ],
      "metadata": {
        "id": "OwP9zJrwwdfV"
      }
    },
    {
      "cell_type": "code",
      "source": [],
      "metadata": {
        "id": "FNdN1nzr_DW8"
      },
      "execution_count": null,
      "outputs": []
    },
    {
      "cell_type": "markdown",
      "source": [
        "operazioni matematiche fondamentali (somma, sottrazione, moltiplicazione, divisione tra interi e tra reali, resto, elevamento a potenza, ...)"
      ],
      "metadata": {
        "id": "mITw5b-7vwsP"
      }
    },
    {
      "cell_type": "code",
      "source": [
        "a = 20#somma\n",
        "b = 12\n",
        "\n",
        "risultato = a + b\n",
        "\n",
        "print(risultato)"
      ],
      "metadata": {
        "id": "cCJ8FN4G_DxU"
      },
      "execution_count": null,
      "outputs": []
    },
    {
      "cell_type": "code",
      "source": [
        "a = 20#sottrazione\n",
        "b = 12\n",
        "\n",
        "risultato = a - b\n",
        "\n",
        "print(risultato)"
      ],
      "metadata": {
        "id": "1uGjkhlZPeRL"
      },
      "execution_count": null,
      "outputs": []
    },
    {
      "cell_type": "code",
      "source": [
        "a = 20#moltiplicazione\n",
        "b = 12\n",
        "\n",
        "risultato = a * b\n",
        "\n",
        "print(risultato)"
      ],
      "metadata": {
        "id": "KxmeFxNjQo6c"
      },
      "execution_count": null,
      "outputs": []
    },
    {
      "cell_type": "code",
      "source": [
        "a = 20#divisione\n",
        "b = 12\n",
        "\n",
        "risultato = a / b\n",
        "\n",
        "print(risultato)"
      ],
      "metadata": {
        "id": "xPwsEPSuQuNb"
      },
      "execution_count": null,
      "outputs": []
    },
    {
      "cell_type": "code",
      "source": [
        "a = 20#elevamento a potenza\n",
        "b = 12\n",
        "\n",
        "risultato = a ** b\n",
        "\n",
        "print(risultato)"
      ],
      "metadata": {
        "id": "b7TUyuJFRMPc"
      },
      "execution_count": null,
      "outputs": []
    },
    {
      "cell_type": "markdown",
      "source": [
        "selezione (if, if else, elif)"
      ],
      "metadata": {
        "id": "eKQ9odxpvzEf"
      }
    },
    {
      "cell_type": "code",
      "source": [
        "number = 10\n",
        "\n",
        "#verificare se il numero è positivo rispetto a zero\n",
        "if number > 0:\n",
        "    print('numero positivo')"
      ],
      "metadata": {
        "id": "Icp9F8hGQLUc"
      },
      "execution_count": null,
      "outputs": []
    },
    {
      "cell_type": "code",
      "source": [],
      "metadata": {
        "id": "mm2yGrtviiGT"
      },
      "execution_count": null,
      "outputs": []
    },
    {
      "cell_type": "markdown",
      "source": [
        "operatori per il confronto tra variabili (uguale, diverso, maggiore, minore, minore uguale, ...)"
      ],
      "metadata": {
        "id": "Zl4IU_bOxFB1"
      }
    },
    {
      "cell_type": "code",
      "source": [],
      "metadata": {
        "id": "FGeAN-NVTchK"
      },
      "execution_count": null,
      "outputs": []
    },
    {
      "cell_type": "markdown",
      "source": [
        "operatori logici (and, or, not)"
      ],
      "metadata": {
        "id": "Q7_OSh5WxxJK"
      }
    },
    {
      "cell_type": "markdown",
      "source": [
        "operatori di appartenenza (in, not in)"
      ],
      "metadata": {
        "id": "w2f1OWg6x24S"
      }
    },
    {
      "cell_type": "markdown",
      "source": [
        "cicli (while, for)"
      ],
      "metadata": {
        "id": "k5onQQXHx__a"
      }
    },
    {
      "cell_type": "markdown",
      "source": [
        "generazione di numeri casuali (interi, float), range()"
      ],
      "metadata": {
        "id": "Ns1JjBYbzMJO"
      }
    },
    {
      "cell_type": "markdown",
      "source": [
        "determinazione tempo di esecuzione di un programma"
      ],
      "metadata": {
        "id": "fHcv7nA-3Hj_"
      }
    },
    {
      "cell_type": "markdown",
      "source": [
        "#Strutture dati"
      ],
      "metadata": {
        "id": "lS9h1SbYyJ3J"
      }
    },
    {
      "cell_type": "markdown",
      "source": [
        "liste (creazione anche con list comprehension, inserimento, modifica, cancellazione, visualizzazione, ricerca, metodi specifici)"
      ],
      "metadata": {
        "id": "eHzg5yNHyRRZ"
      }
    },
    {
      "cell_type": "code",
      "source": [
        "squadre=[\"Milan\",\"Psv\",\"Benevento\"]\n",
        "print(squadre)\n",
        "#CREAZIONE e VISUALIZZAZIONE"
      ],
      "metadata": {
        "id": "3FiHJCNdORJJ"
      },
      "execution_count": null,
      "outputs": []
    },
    {
      "cell_type": "code",
      "source": [
        "  ++  +if 'Napoli' in squadre:\n",
        "  print(squadre['Napoli'])\n",
        "else:\n",
        "  print('squadra non presente')\n",
        "  #RICERCA"
      ],
      "metadata": {
        "id": "Pve4Ke31TqD8"
      },
      "execution_count": null,
      "outputs": []
    },
    {
      "cell_type": "code",
      "source": [
        "#INSERIMENTO\n",
        "squadre.append(\"Napoli\")#aggiunge un elemento alla fine della lista\n",
        "print(squadre)\n",
        "squadre.extend([\"Psg\",\"Roma\",\"Steaua Bucarest\"])#aggiunge 3 elementi alla fine della lista\n",
        "print(squadre)\n",
        "squadre.insert(5,\"Lazio\")#aggiungere la squadra Lazio alla posizione 5\n",
        "print(squadre)"
      ],
      "metadata": {
        "id": "Obvp5XDOUlI3"
      },
      "execution_count": null,
      "outputs": []
    },
    {
      "cell_type": "code",
      "source": [
        "#CANCELLAZIONE\n",
        "squadre.remove('Psg')# rimuovere la prima occorrenza (oppure istanza) la squadre Lazio\n",
        "print(squadre)\n",
        "#DEL E POP SI POSSONO USARE SOLO CON I NUMERI NON CON I NOMI(IMPORTANTE)"
      ],
      "metadata": {
        "id": "2QQ9qgO9VNxU"
      },
      "execution_count": null,
      "outputs": []
    },
    {
      "cell_type": "markdown",
      "source": [
        "tuple (creazione anche con list comprehension, inserimento, modifica, cancellazione, visualizzazione, ricerca, metodi specifici)"
      ],
      "metadata": {
        "id": "eoUpQiJnxVJV"
      }
    },
    {
      "cell_type": "code",
      "source": [
        "#VISUALIZZAZIONE\n",
        "tupla1=(1,2,3,4,5)\n",
        "print(tupla1)"
      ],
      "metadata": {
        "id": "JeoyWXFhOQ0R"
      },
      "execution_count": null,
      "outputs": []
    },
    {
      "cell_type": "code",
      "source": [
        "tupla2=(\"prova\",)\n",
        "print(type(tupla2))\n",
        "print(tupla2)\n",
        "#Per creare una tupla con un solo elemento, devi aggiungere una virgola dopo l'elemento"
      ],
      "metadata": {
        "id": "b8IW9pQik6eq"
      },
      "execution_count": null,
      "outputs": []
    },
    {
      "cell_type": "code",
      "source": [
        "#puo cotenere tutti i tipi di dati, pure tutti insieme in una sola tupla\n",
        "tupla3=(\"ciao\", 1, True,2,\"hello\")\n",
        "print(tupla3)"
      ],
      "metadata": {
        "id": "FZwSxBpymZyi"
      },
      "execution_count": null,
      "outputs": []
    },
    {
      "cell_type": "code",
      "source": [
        "#si puo usare anche la funzione \"tuple()\" per crearne una \n",
        "pluto = [1, 0 ,2]\n",
        "prova=tuple(pluto)\n",
        "print(prova)\n",
        "print(pluto)\n",
        "pluto.extend([2])\n",
        "print(pluto)\n",
        "print(prova)"
      ],
      "metadata": {
        "id": "kbXhoSurmjCa"
      },
      "execution_count": null,
      "outputs": []
    },
    {
      "cell_type": "markdown",
      "source": [
        "set (creazione anche con list comprehension, inserimento, modifica, cancellazione, visualizzazione, ricerca, metodi specifici)"
      ],
      "metadata": {
        "id": "5enXw7_vznk-"
      }
    },
    {
      "cell_type": "code",
      "source": [],
      "metadata": {
        "id": "yLmZx5Zvo5Gh"
      },
      "execution_count": null,
      "outputs": []
    },
    {
      "cell_type": "markdown",
      "source": [
        "dizionari (creazione anche con list comprehension, inserimento, modifica, cancellazione, visualizzazione, ricerca, metodi specifici)"
      ],
      "metadata": {
        "id": "Fd_ZniI_zo8O"
      }
    },
    {
      "cell_type": "code",
      "source": [
        "dizionarioITEN = {'uno': 'one', 'due': 'two', 'tre': 'three', 'quattro': 'four'}\n",
        "dizionarioITEN\n",
        "#metodo per dizionari(facile)"
      ],
      "metadata": {
        "id": "r2pC8DUJOR9Z"
      },
      "execution_count": null,
      "outputs": []
    },
    {
      "cell_type": "code",
      "source": [
        "dizionarioITEN = dict(uno = 'one', due = 'two', tre = 'three', quattro = 'four')\n",
        "dizionarioITEN\n",
        "#metodo per dizionari(troppo tempo)"
      ],
      "metadata": {
        "id": "q1UuGoIpodxZ"
      },
      "execution_count": null,
      "outputs": []
    },
    {
      "cell_type": "code",
      "source": [
        "dizionarioITEN = dict([('uno', 'one'), ('due', 'two'), ('tre', 'three'), ('quattro', 'four')])\n",
        "dizionarioITEN#metodo per dizionari(difficile)"
      ],
      "metadata": {
        "id": "PfqnFccQod_C"
      },
      "execution_count": null,
      "outputs": []
    },
    {
      "cell_type": "code",
      "source": [
        "numeriItaliani = ['uno', 'due', 'tre', 'quattro']#ci metti troppo con questo metodo(difficile)\n",
        "print(numeriItaliani)"
      ],
      "metadata": {
        "id": "OkXZrv0poeMJ"
      },
      "execution_count": null,
      "outputs": []
    },
    {
      "cell_type": "code",
      "source": [
        "len(dizionarioITEN)\n",
        "#conta per la parentesi graffa quanti elementi ci sono dentro esce 4 perchè one e uno vengono contati singoli dato dai :"
      ],
      "metadata": {
        "id": "h54nN3dwoeZZ"
      },
      "execution_count": null,
      "outputs": []
    },
    {
      "cell_type": "code",
      "source": [
        "dizionarioITEN['cinque'] = 'five'\n",
        "dizionarioITEN\n",
        "#questo metodo aggiunge five e cinque al dizionario"
      ],
      "metadata": {
        "id": "_QCdhTwaoe1Z"
      },
      "execution_count": null,
      "outputs": []
    },
    {
      "cell_type": "code",
      "source": [
        "dizionarioITEN['due']#restituisce il valore della chiave 2"
      ],
      "metadata": {
        "id": "G2whO0j0oeop"
      },
      "execution_count": null,
      "outputs": []
    },
    {
      "cell_type": "code",
      "source": [
        "dizionarioITEN['dues']#mi da questo errore dato che non c'è la chiave \"dues\" nel dizionario"
      ],
      "metadata": {
        "id": "dnVUE9tEozCJ"
      },
      "execution_count": null,
      "outputs": []
    },
    {
      "cell_type": "code",
      "source": [
        "if 'dues' in dizionarioITEN.keys():\n",
        "  print(dizionarioITEN['dues'])\n",
        "else:\n",
        "  print('chiave non presente')\n",
        "#se dues è presente mi fa vedere la chiave ma dato che non c'è, ci dice la \"chiave non è presente\""
      ],
      "metadata": {
        "id": "xsPuZJcdpCi5"
      },
      "execution_count": null,
      "outputs": []
    },
    {
      "cell_type": "code",
      "source": [
        "if 'dues' in dizionarioITEN:\n",
        "  print(dizionarioITEN['dues'])\n",
        "else:\n",
        "  print('chiave non presente')\n",
        "  #stessa cosa ma senza keys(dall'esercizio sopra)"
      ],
      "metadata": {
        "id": "TH-UqmfSpIoA"
      },
      "execution_count": null,
      "outputs": []
    },
    {
      "cell_type": "code",
      "source": [
        "dizionarioITEN.get('due', 'chiave non presente')#altro metodo per l'esercizio,va a prendere la chiave se la chiave non c'è mi da il messaggio \"chiave non presente\""
      ],
      "metadata": {
        "id": "JDNgDmm_pLLh"
      },
      "execution_count": null,
      "outputs": []
    },
    {
      "cell_type": "code",
      "source": [
        "dizionarioITEN.setdefault('sette', 'seven')#nel caso in cui la chiave c'è me la restituisce, se non c'è la inserisce\n",
        "dizionarioITEN"
      ],
      "metadata": {
        "id": "N6z4f4sqpL2x"
      },
      "execution_count": null,
      "outputs": []
    },
    {
      "cell_type": "code",
      "source": [
        "if 'two' in dizionarioITEN.values():\n",
        "  print('valore presente')\n",
        "else:\n",
        "  print('valore non presente')\n",
        "#questa volta ho cercato \"two\" nelle chiave non nei valori"
      ],
      "metadata": {
        "id": "TydaZ-GgpVhB"
      },
      "execution_count": null,
      "outputs": []
    },
    {
      "cell_type": "code",
      "source": [
        "for number in dizionarioITEN.values():\n",
        "  print(number)\n",
        "#visualizza i valori corrispondenti alle chiavi"
      ],
      "metadata": {
        "id": "JAC8TA-EpZFJ"
      },
      "execution_count": null,
      "outputs": []
    },
    {
      "cell_type": "code",
      "source": [
        "for number in dizionarioITEN:\n",
        "  print(number)"
      ],
      "metadata": {
        "id": "j8zuY_FIpa2x"
      },
      "execution_count": null,
      "outputs": []
    },
    {
      "cell_type": "code",
      "source": [
        "for numero, number in dizionarioITEN.items():\n",
        "  print(numero, '-', number)\n",
        "#items prende la coppia di chiave e valore "
      ],
      "metadata": {
        "id": "iApxc8jApd_Z"
      },
      "execution_count": null,
      "outputs": []
    },
    {
      "cell_type": "code",
      "source": [
        "for numero in dizionarioITEN:\n",
        "  print(numero, '-', dizionarioITEN[numero])"
      ],
      "metadata": {
        "id": "UWi5Cr0wpgm6"
      },
      "execution_count": null,
      "outputs": []
    },
    {
      "cell_type": "code",
      "source": [
        "studenti3E=[{\"nome\":\"Leonardo\",\"città\":\"Sesto San Giovanni\"},{\"nome\":\"Filippo\",\"città\":\"Milano\"},{\"nome\":\"Andrea\",\"città\":\"Milano\"}]\n",
        "print(studenti3E)"
      ],
      "metadata": {
        "id": "fMiYcw6lpgiA"
      },
      "execution_count": null,
      "outputs": []
    },
    {
      "cell_type": "code",
      "source": [
        "len(studenti3E)#esce come len 3 perchè sono 3 parentesi graffe nelle parentesi quadre"
      ],
      "metadata": {
        "id": "KVe-D7bnpgWp"
      },
      "execution_count": null,
      "outputs": []
    },
    {
      "cell_type": "code",
      "source": [
        "for studente in studenti3E:\n",
        "  print(studente)"
      ],
      "metadata": {
        "id": "zz0ctMH4pwBa"
      },
      "execution_count": null,
      "outputs": []
    },
    {
      "cell_type": "code",
      "source": [
        "for studente in studenti3E:\n",
        "  print(studente[\"nome\"])"
      ],
      "metadata": {
        "id": "XCv7OBnNp18J"
      },
      "execution_count": null,
      "outputs": []
    },
    {
      "cell_type": "code",
      "source": [
        "studenti3Ebis=[{\"generalità\":{\"nome\":\"Leonardo\",\"cognome\":\"D'Arienzo\"},\"città\":\"Sesto San Giovanni\"},{\"generalità\":{\"nome\":\"Filippo\",\"cognome\":\"Neri\"},\"città\":\"Milano\"},{\"generalità\":{\"nome\":\"Andrea\",\"cognome\":\"Leone\"},\"città\":\"Milano\"}]\n",
        "print(studenti3Ebis)"
      ],
      "metadata": {
        "id": "dfW6ERsrp4ua"
      },
      "execution_count": null,
      "outputs": []
    },
    {
      "cell_type": "code",
      "source": [
        "len(studenti3Ebis)#uscirà 3 dato che ci sono 3 generalità nelle parentesi quadre"
      ],
      "metadata": {
        "id": "C9-kXAc5p4rZ"
      },
      "execution_count": null,
      "outputs": []
    },
    {
      "cell_type": "code",
      "source": [
        "for studente in studenti3Ebis:\n",
        "  print(studente)"
      ],
      "metadata": {
        "id": "socETmJuqK2Z"
      },
      "execution_count": null,
      "outputs": []
    },
    {
      "cell_type": "code",
      "source": [
        "for studente in studenti3Ebis:\n",
        "  print(studente[\"generalità\"])"
      ],
      "metadata": {
        "id": "VzK2UxCkqK0t"
      },
      "execution_count": null,
      "outputs": []
    },
    {
      "cell_type": "code",
      "source": [
        "#se volessi visualizzare solo il nome di tutti gli studenti che hanno generalità\n",
        "for studente in studenti3Ebis:\n",
        "  print(studente[\"generalità\"][\"nome\"])"
      ],
      "metadata": {
        "id": "TLiOqhd4qRYw"
      },
      "execution_count": null,
      "outputs": []
    },
    {
      "cell_type": "code",
      "source": [
        "#visualizzo il nome del secondo studente\n",
        "studenti3Ebis[1][\"generalità\"][\"nome\"]"
      ],
      "metadata": {
        "id": "LJiOU6uOqRV5"
      },
      "execution_count": null,
      "outputs": []
    },
    {
      "cell_type": "code",
      "source": [
        "studenti3Etris=[{\"generalità\":{\"nome\":\"Leonardo\",\"cognome\":\"D'Arienzo\"},\"città\":\"Sesto San Giovanni\",\"telefono\":[\"46752849845\",\"23528552823\"]},{\"generalità\":{\"nome\":\"Filippo\",\"cognome\":\"Neri\"},\"città\":\"Milano\",\"telefono\":[\"256752849845\",\"03528552823\"]},{\"generalità\":{\"nome\":\"Andrea\",\"cognome\":\"Leone\"},\"città\":\"Milano\",\"telefono\":[\"32675849845\",\"93528552823\"]}]\n",
        "studenti3Etris"
      ],
      "metadata": {
        "id": "UrWKmthXqKxp"
      },
      "execution_count": null,
      "outputs": []
    },
    {
      "cell_type": "code",
      "source": [
        "studenti3Etris[1][\"telefono\"][0]"
      ],
      "metadata": {
        "id": "76NUxj-dp14q"
      },
      "execution_count": null,
      "outputs": []
    },
    {
      "cell_type": "markdown",
      "source": [
        "criteri per la scelta della struttura dati più adatta all'applicazione"
      ],
      "metadata": {
        "id": "PD49J-Gv0qJ8"
      }
    },
    {
      "cell_type": "code",
      "source": [],
      "metadata": {
        "id": "xSbuBs83OSgq"
      },
      "execution_count": null,
      "outputs": []
    },
    {
      "cell_type": "markdown",
      "source": [
        "#Pandas"
      ],
      "metadata": {
        "id": "eeMDQKKu1Brz"
      }
    },
    {
      "cell_type": "markdown",
      "source": [
        "creazione del dataframe da file di tipo diverso"
      ],
      "metadata": {
        "id": "7qn3k6JD1D-K"
      }
    },
    {
      "cell_type": "code",
      "source": [
        "import pandas as pd\n",
        "df1 = pd.read_csv('https://github.com/italia/covid19-opendata-vaccini/blob/master/dati/somministrazioni-vaccini-latest.csv?raw=true')\n",
        "df1\n",
        "\n",
        "#esistono tipi di file di tipo diverso che abbiamo visto json, csv e excel possono essercene altri ma per adesso abbiamo visto quello"
      ],
      "metadata": {
        "id": "2XYXJCJFqz44"
      },
      "execution_count": null,
      "outputs": []
    },
    {
      "cell_type": "code",
      "source": [
        "dfgroup=df1.groupby(\"forn\").count()\n",
        "dfgroup"
      ],
      "metadata": {
        "id": "p9dZHzWx1OYF"
      },
      "execution_count": null,
      "outputs": []
    },
    {
      "cell_type": "markdown",
      "source": [
        "eliminazione di righe (più metodi se possibile)"
      ],
      "metadata": {
        "id": "T_OZh9c-1KZ0"
      }
    },
    {
      "cell_type": "markdown",
      "source": [
        "eliminazione di colonne (più metodi se possibile)"
      ],
      "metadata": {
        "id": "xJe3vnfZ1Npr"
      }
    },
    {
      "cell_type": "code",
      "source": [
        "df1.pop(\"area\")\n",
        "print(df1)"
      ],
      "metadata": {
        "id": "E3IaTqYore5g"
      },
      "execution_count": null,
      "outputs": []
    },
    {
      "cell_type": "code",
      "source": [
        "del df1[\"eta\"]\n",
        "print(df1)"
      ],
      "metadata": {
        "id": "-9ziEYlRsIs5"
      },
      "execution_count": null,
      "outputs": []
    },
    {
      "cell_type": "markdown",
      "source": [
        "eliminazione di valori nulli (più metodi se possibile)"
      ],
      "metadata": {
        "id": "C1-C6Vjb1PME"
      }
    },
    {
      "cell_type": "markdown",
      "source": [
        "selezione di una serie di righe (più metodi se possibile)"
      ],
      "metadata": {
        "id": "ugUyVMOY1Q5c"
      }
    },
    {
      "cell_type": "markdown",
      "source": [
        "selezione di una serie di colonne (più metodi se possibile)"
      ],
      "metadata": {
        "id": "ohNqeoCa1Uaj"
      }
    },
    {
      "cell_type": "markdown",
      "source": [
        "ricerca di valori in una colonna (più metodi se possibile)"
      ],
      "metadata": {
        "id": "46Nm66A61V-D"
      }
    },
    {
      "cell_type": "markdown",
      "source": [
        "ricerca di più valori su una o più colonne"
      ],
      "metadata": {
        "id": "u_T1Nbyo2Pqo"
      }
    },
    {
      "cell_type": "markdown",
      "source": [
        "ricerca di sottotsringhe in una colonna"
      ],
      "metadata": {
        "id": "8jZ99Hlx15Kh"
      }
    },
    {
      "cell_type": "markdown",
      "source": [
        "gestione delle date (da string a datetime e viceversa)"
      ],
      "metadata": {
        "id": "z2OQDO1P3L6f"
      }
    },
    {
      "cell_type": "markdown",
      "source": [
        "raggruppamenti e funzioni di aggregazione (count, min, max, sum, mean)"
      ],
      "metadata": {
        "id": "fr9SDRpW12eB"
      }
    },
    {
      "cell_type": "markdown",
      "source": [
        "#Matplotlib"
      ],
      "metadata": {
        "id": "-wlEbOmI2MmB"
      }
    },
    {
      "cell_type": "markdown",
      "source": [
        "grafico a barre orizzontali"
      ],
      "metadata": {
        "id": "wFT8UarA2YY5"
      }
    },
    {
      "cell_type": "code",
      "source": [
        "import matplotlib.pyplot as plt\n",
        "import numpy as np"
      ],
      "metadata": {
        "id": "e4-Wx4OhzDK-"
      },
      "execution_count": null,
      "outputs": []
    },
    {
      "cell_type": "code",
      "source": [
        "labels = dfgroup.index\n",
        "dati = dfgroup['d1']\n",
        "\n",
        "fig, ax = plt.subplots(figsize=(15,8))\n",
        "ax.barh(labels, dati, label='totale vaccinati in ogni regione')"
      ],
      "metadata": {
        "colab": {
          "base_uri": "https://localhost:8080/",
          "height": 500
        },
        "id": "WaEAFUVry3yH",
        "outputId": "72f01b78-4af5-4660-fc2a-d2c12a41dece"
      },
      "execution_count": null,
      "outputs": [
        {
          "output_type": "execute_result",
          "data": {
            "text/plain": [
              "<BarContainer object of 7 artists>"
            ]
          },
          "metadata": {},
          "execution_count": 11
        },
        {
          "output_type": "display_data",
          "data": {
            "text/plain": [
              "<Figure size 1080x576 with 1 Axes>"
            ],
            "image/png": "[encoded data removed]"
          },
          "metadata": {
            "needs_background": "light"
          }
        }
      ]
    },
    {
      "cell_type": "markdown",
      "source": [
        "grafico a barre verticali"
      ],
      "metadata": {
        "id": "o-41bPuf2dkZ"
      }
    },
    {
      "cell_type": "markdown",
      "source": [
        "grafico a torta"
      ],
      "metadata": {
        "id": "cRj0_X-F2fdB"
      }
    },
    {
      "cell_type": "markdown",
      "source": [
        "altri tipi di grafici"
      ],
      "metadata": {
        "id": "bg83rUIs2hF4"
      }
    }
  ]
}